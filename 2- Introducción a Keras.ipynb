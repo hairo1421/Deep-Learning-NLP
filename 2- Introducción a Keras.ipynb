{
 "cells": [
  {
   "cell_type": "markdown",
   "metadata": {},
   "source": [
    "# Modelos Scuenciales"
   ]
  },
  {
   "cell_type": "markdown",
   "metadata": {},
   "source": [
    "Son modelos compuestos de pilas de capas"
   ]
  },
  {
   "cell_type": "code",
   "execution_count": 1,
   "metadata": {},
   "outputs": [
    {
     "name": "stderr",
     "output_type": "stream",
     "text": [
      "Using TensorFlow backend.\n",
      "WARNING: Logging before flag parsing goes to stderr.\n",
      "W0815 15:17:00.348670 19912 deprecation_wrapper.py:119] From C:\\Users\\h_air\\Anaconda3\\envs\\tensorflow-gpu\\lib\\site-packages\\keras\\backend\\tensorflow_backend.py:74: The name tf.get_default_graph is deprecated. Please use tf.compat.v1.get_default_graph instead.\n",
      "\n",
      "W0815 15:17:00.381667 19912 deprecation_wrapper.py:119] From C:\\Users\\h_air\\Anaconda3\\envs\\tensorflow-gpu\\lib\\site-packages\\keras\\backend\\tensorflow_backend.py:517: The name tf.placeholder is deprecated. Please use tf.compat.v1.placeholder instead.\n",
      "\n",
      "W0815 15:17:00.387680 19912 deprecation_wrapper.py:119] From C:\\Users\\h_air\\Anaconda3\\envs\\tensorflow-gpu\\lib\\site-packages\\keras\\backend\\tensorflow_backend.py:4138: The name tf.random_uniform is deprecated. Please use tf.random.uniform instead.\n",
      "\n"
     ]
    }
   ],
   "source": [
    "from keras.models import Sequential\n",
    "from keras.layers import Dense, Activation\n",
    "\n",
    "# Forma \n",
    "\n",
    "model = Sequential([\n",
    "    Dense(32, input_shape=(784,)),\n",
    "    Activation(\"relu\"),\n",
    "    Dense(10),\n",
    "    Activation(\"softmax\")\n",
    "])\n",
    "\n",
    "# Puedes añadir capas al modelo utilizando .add()\n",
    "model = Sequential()\n",
    "model.add(Dense(32, input_dim=784))\n",
    "model.add(Activation('relu'))\n",
    "model.add(Dense(10))"
   ]
  },
  {
   "cell_type": "markdown",
   "metadata": {},
   "source": [
    "## Input shape"
   ]
  },
  {
   "cell_type": "markdown",
   "metadata": {},
   "source": [
    "Especificando el tamaño de entrada\n",
    "\n",
    "* Se es necesario especificar el tamaño de la entrada.\n",
    "* Input shape: nD tensor de  forma (batch_size, input_dim) 2D input shape\n",
    "\n",
    "    "
   ]
  },
  {
   "cell_type": "code",
   "execution_count": null,
   "metadata": {},
   "outputs": [],
   "source": [
    "# formas equivalente de declarar input shape\n",
    "\n",
    "# Forma 1\n",
    "model = Sequential()\n",
    "model.add(Dense(32, input_shape=(784,)))\n",
    "# Forma 2\n",
    "model = Sequential()\n",
    "model.add(Dense(32, input_dim=784))\n",
    "\n"
   ]
  },
  {
   "cell_type": "markdown",
   "metadata": {},
   "source": [
    "## Compilación"
   ]
  },
  {
   "cell_type": "markdown",
   "metadata": {},
   "source": [
    "Antes de entrenar un modelo, es necesario configurar el proceso de aprendizaje"
   ]
  },
  {
   "cell_type": "markdown",
   "metadata": {},
   "source": [
    "* optimizer : Algoritmo optimizador de la función de perdida\n",
    "* loss: Función de perdida\n",
    "* metrics: metrica para problemas de clasificación, desempeño de clasificación"
   ]
  },
  {
   "cell_type": "code",
   "execution_count": null,
   "metadata": {},
   "outputs": [],
   "source": [
    "# Para tareas de clasificación multi clase\n",
    "model.compile(optimizer='rmsprop', \n",
    "              loss='categorical_crossentropy',\n",
    "              metrics=['accuracy'])\n",
    "\n",
    "# Para tareas de clasificación binarios\n",
    "model.compile(optimizer='rmsprop',\n",
    "              loss='binary_crossentropy',\n",
    "              metrics=['accuracy'])\n",
    "\n",
    "# Para tareas de regresión \n",
    "model.compile(optimizer='rmsprop',\n",
    "              loss='mse')"
   ]
  },
  {
   "cell_type": "markdown",
   "metadata": {},
   "source": [
    "## Entrenamiento"
   ]
  },
  {
   "cell_type": "markdown",
   "metadata": {},
   "source": [
    "Problema de clasificación binaria"
   ]
  },
  {
   "cell_type": "code",
   "execution_count": 2,
   "metadata": {},
   "outputs": [],
   "source": [
    "# Datos de prueba\n",
    "import numpy as np\n",
    "data = np.random.random((1000,100))\n",
    "labels =np.random.randint(2,size=(1000,1))"
   ]
  },
  {
   "cell_type": "code",
   "execution_count": 3,
   "metadata": {},
   "outputs": [
    {
     "name": "stderr",
     "output_type": "stream",
     "text": [
      "W0815 15:17:00.595239 19912 deprecation_wrapper.py:119] From C:\\Users\\h_air\\Anaconda3\\envs\\tensorflow-gpu\\lib\\site-packages\\keras\\optimizers.py:790: The name tf.train.Optimizer is deprecated. Please use tf.compat.v1.train.Optimizer instead.\n",
      "\n",
      "W0815 15:17:00.638162 19912 deprecation_wrapper.py:119] From C:\\Users\\h_air\\Anaconda3\\envs\\tensorflow-gpu\\lib\\site-packages\\keras\\backend\\tensorflow_backend.py:3376: The name tf.log is deprecated. Please use tf.math.log instead.\n",
      "\n",
      "W0815 15:17:00.655933 19912 deprecation.py:323] From C:\\Users\\h_air\\Anaconda3\\envs\\tensorflow-gpu\\lib\\site-packages\\tensorflow\\python\\ops\\nn_impl.py:180: add_dispatch_support.<locals>.wrapper (from tensorflow.python.ops.array_ops) is deprecated and will be removed in a future version.\n",
      "Instructions for updating:\n",
      "Use tf.where in 2.0, which has the same broadcast rule as np.where\n"
     ]
    }
   ],
   "source": [
    "model = Sequential()\n",
    "model.add(Dense(32, activation='relu', input_dim=100))\n",
    "model.add(Dense(1, activation='sigmoid'))\n",
    "model.compile(optimizer='rmsprop',\n",
    "              loss='binary_crossentropy',\n",
    "              metrics=['accuracy'])\n"
   ]
  },
  {
   "cell_type": "code",
   "execution_count": 4,
   "metadata": {},
   "outputs": [
    {
     "name": "stderr",
     "output_type": "stream",
     "text": [
      "W0815 15:17:03.305871 19912 deprecation_wrapper.py:119] From C:\\Users\\h_air\\Anaconda3\\envs\\tensorflow-gpu\\lib\\site-packages\\keras\\backend\\tensorflow_backend.py:986: The name tf.assign_add is deprecated. Please use tf.compat.v1.assign_add instead.\n",
      "\n"
     ]
    },
    {
     "name": "stdout",
     "output_type": "stream",
     "text": [
      "Epoch 1/10\n",
      "1000/1000 [==============================] - 7s 7ms/step - loss: 0.7081 - acc: 0.4940\n",
      "Epoch 2/10\n",
      "1000/1000 [==============================] - 0s 375us/step - loss: 0.6929 - acc: 0.5320\n",
      "Epoch 3/10\n",
      "1000/1000 [==============================] - 0s 370us/step - loss: 0.6954 - acc: 0.5250\n",
      "Epoch 4/10\n",
      "1000/1000 [==============================] - 0s 377us/step - loss: 0.6899 - acc: 0.5360\n",
      "Epoch 5/10\n",
      "1000/1000 [==============================] - 0s 372us/step - loss: 0.6872 - acc: 0.5430\n",
      "Epoch 6/10\n",
      "1000/1000 [==============================] - 0s 385us/step - loss: 0.6840 - acc: 0.5410\n",
      "Epoch 7/10\n",
      "1000/1000 [==============================] - 0s 369us/step - loss: 0.6822 - acc: 0.5520\n",
      "Epoch 8/10\n",
      "1000/1000 [==============================] - 0s 371us/step - loss: 0.6757 - acc: 0.5820\n",
      "Epoch 9/10\n",
      "1000/1000 [==============================] - 0s 380us/step - loss: 0.6717 - acc: 0.5820\n",
      "Epoch 10/10\n",
      "1000/1000 [==============================] - 0s 368us/step - loss: 0.6699 - acc: 0.5920\n"
     ]
    },
    {
     "data": {
      "text/plain": [
       "<keras.callbacks.History at 0x23460a2ecc0>"
      ]
     },
     "execution_count": 4,
     "metadata": {},
     "output_type": "execute_result"
    }
   ],
   "source": [
    "model.fit(data, labels, epochs=10, batch_size=32)"
   ]
  },
  {
   "cell_type": "markdown",
   "metadata": {},
   "source": [
    "Problema de clasificación multi clase"
   ]
  },
  {
   "cell_type": "code",
   "execution_count": 5,
   "metadata": {},
   "outputs": [],
   "source": [
    "# GDatos de prueba\n",
    "import numpy as np\n",
    "data = np.random.random((1000, 100))\n",
    "labels = np.random.randint(10, size=(1000, 1))"
   ]
  },
  {
   "cell_type": "code",
   "execution_count": 6,
   "metadata": {},
   "outputs": [],
   "source": [
    "# Convertir labels a representación one-hot encoding\n",
    "from keras.utils import to_categorical\n",
    "one_hot_labels = to_categorical(labels, num_classes=10)"
   ]
  },
  {
   "cell_type": "code",
   "execution_count": 7,
   "metadata": {},
   "outputs": [],
   "source": [
    "model = Sequential()\n",
    "model.add(Dense(32, activation='relu', input_dim=100))\n",
    "model.add(Dense(10, activation='softmax'))\n",
    "model.compile(optimizer='rmsprop',\n",
    "              loss='categorical_crossentropy',\n",
    "              metrics=['accuracy'])"
   ]
  },
  {
   "cell_type": "code",
   "execution_count": 8,
   "metadata": {},
   "outputs": [
    {
     "name": "stdout",
     "output_type": "stream",
     "text": [
      "Epoch 1/10\n",
      "1000/1000 [==============================] - 1s 890us/step - loss: 2.3478 - acc: 0.1050\n",
      "Epoch 2/10\n",
      "1000/1000 [==============================] - 0s 198us/step - loss: 2.3167 - acc: 0.1010\n",
      "Epoch 3/10\n",
      "1000/1000 [==============================] - 0s 179us/step - loss: 2.3055 - acc: 0.1160\n",
      "Epoch 4/10\n",
      "1000/1000 [==============================] - 0s 253us/step - loss: 2.3001 - acc: 0.1260\n",
      "Epoch 5/10\n",
      "1000/1000 [==============================] - 0s 256us/step - loss: 2.2901 - acc: 0.1320\n",
      "Epoch 6/10\n",
      "1000/1000 [==============================] - 0s 249us/step - loss: 2.2820 - acc: 0.1310\n",
      "Epoch 7/10\n",
      "1000/1000 [==============================] - 0s 243us/step - loss: 2.2741 - acc: 0.1380\n",
      "Epoch 8/10\n",
      "1000/1000 [==============================] - 0s 245us/step - loss: 2.2667 - acc: 0.1530\n",
      "Epoch 9/10\n",
      "1000/1000 [==============================] - 0s 247us/step - loss: 2.2579 - acc: 0.1480\n",
      "Epoch 10/10\n",
      "1000/1000 [==============================] - 0s 257us/step - loss: 2.2501 - acc: 0.1700\n"
     ]
    },
    {
     "data": {
      "text/plain": [
       "<keras.callbacks.History at 0x23478611320>"
      ]
     },
     "execution_count": 8,
     "metadata": {},
     "output_type": "execute_result"
    }
   ],
   "source": [
    "model.fit(data, one_hot_labels, epochs=10, batch_size=32)"
   ]
  },
  {
   "cell_type": "markdown",
   "metadata": {},
   "source": [
    "## Ejemplo"
   ]
  },
  {
   "cell_type": "code",
   "execution_count": 9,
   "metadata": {},
   "outputs": [
    {
     "name": "stderr",
     "output_type": "stream",
     "text": [
      "W0815 15:22:34.876842 19912 deprecation.py:506] From C:\\Users\\h_air\\Anaconda3\\envs\\tensorflow-gpu\\lib\\site-packages\\keras\\backend\\tensorflow_backend.py:3445: calling dropout (from tensorflow.python.ops.nn_ops) with keep_prob is deprecated and will be removed in a future version.\n",
      "Instructions for updating:\n",
      "Please use `rate` instead of `keep_prob`. Rate should be set to `rate = 1 - keep_prob`.\n"
     ]
    },
    {
     "name": "stdout",
     "output_type": "stream",
     "text": [
      "Epoch 1/20\n",
      "1000/1000 [==============================] - 2s 2ms/step - loss: 2.3453 - acc: 0.0980\n",
      "Epoch 2/20\n",
      "1000/1000 [==============================] - 0s 78us/step - loss: 2.3357 - acc: 0.1110\n",
      "Epoch 3/20\n",
      "1000/1000 [==============================] - 0s 78us/step - loss: 2.3233 - acc: 0.0990\n",
      "Epoch 4/20\n",
      "1000/1000 [==============================] - 0s 79us/step - loss: 2.3207 - acc: 0.1120\n",
      "Epoch 5/20\n",
      "1000/1000 [==============================] - 0s 81us/step - loss: 2.3068 - acc: 0.1270\n",
      "Epoch 6/20\n",
      "1000/1000 [==============================] - 0s 77us/step - loss: 2.3050 - acc: 0.1240\n",
      "Epoch 7/20\n",
      "1000/1000 [==============================] - 0s 77us/step - loss: 2.3045 - acc: 0.1030\n",
      "Epoch 8/20\n",
      "1000/1000 [==============================] - 0s 80us/step - loss: 2.2954 - acc: 0.1250\n",
      "Epoch 9/20\n",
      "1000/1000 [==============================] - 0s 79us/step - loss: 2.3005 - acc: 0.1200\n",
      "Epoch 10/20\n",
      "1000/1000 [==============================] - 0s 71us/step - loss: 2.2922 - acc: 0.1370\n",
      "Epoch 11/20\n",
      "1000/1000 [==============================] - 0s 55us/step - loss: 2.2968 - acc: 0.1280\n",
      "Epoch 12/20\n",
      "1000/1000 [==============================] - 0s 85us/step - loss: 2.2930 - acc: 0.1350\n",
      "Epoch 13/20\n",
      "1000/1000 [==============================] - 0s 72us/step - loss: 2.2931 - acc: 0.1300\n",
      "Epoch 14/20\n",
      "1000/1000 [==============================] - 0s 51us/step - loss: 2.2964 - acc: 0.1210\n",
      "Epoch 15/20\n",
      "1000/1000 [==============================] - 0s 56us/step - loss: 2.2919 - acc: 0.1430\n",
      "Epoch 16/20\n",
      "1000/1000 [==============================] - 0s 52us/step - loss: 2.2870 - acc: 0.1230\n",
      "Epoch 17/20\n",
      "1000/1000 [==============================] - 0s 49us/step - loss: 2.2881 - acc: 0.1400\n",
      "Epoch 18/20\n",
      "1000/1000 [==============================] - 0s 58us/step - loss: 2.2914 - acc: 0.1240\n",
      "Epoch 19/20\n",
      "1000/1000 [==============================] - 0s 64us/step - loss: 2.2883 - acc: 0.1370\n",
      "Epoch 20/20\n",
      "1000/1000 [==============================] - 0s 65us/step - loss: 2.2883 - acc: 0.1230\n",
      "100/100 [==============================] - 0s 2ms/step\n"
     ]
    }
   ],
   "source": [
    "# Multilayer Perceptron (MLP) for multi-class softmax classification:\n",
    "import keras\n",
    "from keras.models import Sequential\n",
    "from keras.layers import Dense, Dropout, Activation\n",
    "from keras.optimizers import SGD\n",
    "\n",
    "import numpy as np\n",
    "x_train = np.random.random((1000, 20))\n",
    "y_train = keras.utils.to_categorical(np.random.randint(10, size=(1000, 1)), num_classes=10)\n",
    "\n",
    "x_test = np.random.random((100, 20))\n",
    "y_test = keras.utils.to_categorical(np.random.randint(10, size=(100, 1)), num_classes=10)\n",
    "\n",
    "model = Sequential()\n",
    "# Especificar input_shape (número de covariables)\n",
    "model.add(Dense(64, activation=\"relu\", input_dim=20))\n",
    "model.add(Dropout(.05))\n",
    "model.add(Dense(64, activation='relu'))\n",
    "model.add(Dropout(0.5))\n",
    "model.add(Dense(10, activation='softmax'))\n",
    "\n",
    "# Optimizador\n",
    "# decay reduce learning rate en cada epoca\n",
    "sgd = SGD(lr=0.01, decay=1e-6, momentum=0.9, nesterov=True)\n",
    "\n",
    "\n",
    "model.compile(loss='categorical_crossentropy',\n",
    "              optimizer=sgd,\n",
    "              metrics=['accuracy'])\n",
    "\n",
    "model.fit(x_train, y_train,\n",
    "          epochs=20,\n",
    "          batch_size=128)\n",
    "\n",
    "# evaluate: regresa el loss value y el valor de la métrica seleccionada\n",
    "score = model.evaluate(x_test, y_test, batch_size=128)\n",
    "\n"
   ]
  },
  {
   "cell_type": "code",
   "execution_count": 11,
   "metadata": {},
   "outputs": [
    {
     "name": "stdout",
     "output_type": "stream",
     "text": [
      "[2.3023195266723633, 0.05999999865889549]\n"
     ]
    }
   ],
   "source": [
    "print(score)"
   ]
  },
  {
   "cell_type": "code",
   "execution_count": 22,
   "metadata": {},
   "outputs": [
    {
     "data": {
      "image/png": "[encoded data removed]",
      "text/plain": [
       "<IPython.core.display.Image object>"
      ]
     },
     "execution_count": 22,
     "metadata": {
      "image/png": {
       "height": 306,
       "width": 180
      }
     },
     "output_type": "execute_result"
    }
   ],
   "source": [
    "from keras.utils import plot_model\n",
    "from IPython.display import Image\n",
    "\n",
    "plot_model(model, to_file='model.png',show_shapes=True, show_layer_names=True)\n",
    "Image(retina=True, filename='model.png')"
   ]
  },
  {
   "cell_type": "code",
   "execution_count": null,
   "metadata": {},
   "outputs": [],
   "source": [
    "# clasificación binaria\n",
    "import numpy as np\n",
    "from keras.models import Sequential\n",
    "from keras.layers import Dense, Dropout\n",
    "\n",
    "# Datos\n",
    "x_train = np.random.random((1000, 20))\n",
    "y_train = np.random.randint(2, size=(1000, 1))\n",
    "x_test = np.random.random((100, 20))\n",
    "y_test = np.random.randint(2, size=(100, 1))\n",
    "\n",
    "model = Sequential()\n",
    "model.add(Dense(64, input_dim=20, activation='relu'))\n",
    "model.add(Dropout(0.5))\n",
    "model.add(Dense(64, activation='relu'))\n",
    "model.add(Dropout(0.5))\n",
    "model.add(Dense(1, activation='sigmoid'))\n",
    "\n",
    "model.compile(loss='binary_crossentropy',\n",
    "              optimizer='rmsprop',\n",
    "              metrics=['accuracy'])\n",
    "\n",
    "model.fit(x_train, y_train,\n",
    "          epochs=20,\n",
    "          batch_size=128)\n",
    "score = model.evaluate(x_test, y_test, batch_size=128)"
   ]
  },
  {
   "cell_type": "code",
   "execution_count": null,
   "metadata": {},
   "outputs": [],
   "source": [
    "# VGG-like convnet:\n",
    "import numpy as np\n",
    "import keras\n",
    "from keras.models import Sequential\n",
    "from keras.layers import Dense, Dropout, Flatten\n",
    "from keras.layers import Conv2D, MaxPooling2D\n",
    "from keras.optimizers import SGD\n",
    "\n",
    "# Datos\n",
    "x_train = np.random.random((100, 100, 100, 3))\n",
    "y_train = keras.utils.to_categorical(np.random.randint(10, size=(100, 1)), num_classes=10)\n",
    "x_test = np.random.random((20, 100, 100, 3))\n",
    "y_test = keras.utils.to_categorical(np.random.randint(10, size=(20, 1)), num_classes=10)\n",
    "\n",
    "# input: 100x100 imagenes con 3 chancnalesnels -> (100, 100, 3) tensors.\n",
    "\n",
    "model.add(Conv2D(32, (3, 3), activation='relu', input_shape=(100, 100, 3)))\n",
    "model.add(Conv2D(32, (3, 3), activation='relu'))\n",
    "model.add(MaxPooling2D(pool_size=(2, 2)))\n",
    "model.add(Dropout(0.25))\n",
    "\n",
    "model.add(Conv2D(64, (3, 3), activation='relu'))\n",
    "model.add(Conv2D(64, (3, 3), activation='relu'))\n",
    "model.add(MaxPooling2D(pool_size=(2, 2)))\n",
    "model.add(Dropout(0.25))\n",
    "\n",
    "model.add(Flatten())\n",
    "model.add(Dense(256, activation='relu'))\n",
    "model.add(Dropout(0.5))\n",
    "model.add(Dense(10, activation='softmax'))\n",
    "\n",
    "sgd = SGD(lr=0.01, decay=1e-6, momentum=0.9, nesterov=True)\n",
    "model.compile(loss='categorical_crossentropy', optimizer=sgd)\n",
    "\n",
    "model.fit(x_train, y_train, batch_size=32, epochs=10)\n",
    "score = model.evaluate(x_test, y_test, batch_size=32)"
   ]
  },
  {
   "cell_type": "code",
   "execution_count": null,
   "metadata": {},
   "outputs": [],
   "source": [
    "# Modelo secuencial con LSTM\n",
    "from keras.models import Sequential\n",
    "from keras.layers import Dense, Dropout, Embedding, LSTM\n",
    "\n",
    "max_feature = 1024\n",
    "model = Sequential()\n",
    "model.add(Embedding(max_features, output_dim=256))\n",
    "model.add(LSTM(128))\n",
    "model.add(Dropout(0.5))\n",
    "model.add(Dense(1, activation='sigmoid'))\n",
    "\n",
    "model.compile(loss='binary_crossentropy',\n",
    "              optimizer='rmsprop',\n",
    "              metrics=['accuracy'])\n",
    "\n",
    "model.fit(x_train, y_train, batch_size=16, epochs=10)\n",
    "score = model.evaluate(x_test, y_test, batch_size=16)"
   ]
  },
  {
   "cell_type": "code",
   "execution_count": null,
   "metadata": {},
   "outputs": [],
   "source": [
    "# Convolución 1D  texto\n",
    "from keras.models import Sequential\n",
    "from keras.layers import Dense, Dropout\n",
    "from keras.layers import Embedding\n",
    "from keras.layers import Conv1D, GlobalAveragePooling1D, MaxPooling1D\n",
    "\n",
    "seq_length = 64\n",
    "\n",
    "# input_shape(batches, timesteps, features)\n",
    "\n",
    "model = Sequential()\n",
    "model.add(Conv1D(64, 3, activation='relu', input_shape=(seq_length, 100)))\n",
    "model.add(Conv1D(64, 3, activation='relu'))\n",
    "model.add(MaxPooling1D(3))\n",
    "model.add(Conv1D(128, 3, activation='relu'))\n",
    "model.add(Conv1D(128, 3, activation='relu'))\n",
    "model.add(GlobalAveragePooling1D()) # no necesita flatten\n",
    "model.add(Dropout(0.5))\n",
    "model.add(Dense(1, activation='sigmoid'))\n",
    "\n",
    "model.compile(loss='binary_crossentropy',\n",
    "              optimizer='rmsprop',\n",
    "              metrics=['accuracy'])\n",
    "\n",
    "model.fit(x_train, y_train, batch_size=16, epochs=10)\n",
    "score = model.evaluate(x_test, y_test, batch_size=16)\n",
    "\n",
    "# visualización\n",
    "# Visualización \n",
    "from keras.utils import plot_model\n",
    "plot_model(model_sequential, to_file='model.png',show_shapes=True, show_layer_names=True)"
   ]
  }
 ],
 "metadata": {
  "kernelspec": {
   "display_name": "Python 3",
   "language": "python",
   "name": "python3"
  },
  "language_info": {
   "codemirror_mode": {
    "name": "ipython",
    "version": 3
   },
   "file_extension": ".py",
   "mimetype": "text/x-python",
   "name": "python",
   "nbconvert_exporter": "python",
   "pygments_lexer": "ipython3",
   "version": "3.6.8"
  }
 },
 "nbformat": 4,
 "nbformat_minor": 2
}
